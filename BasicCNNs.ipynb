{
 "cells": [
  {
   "cell_type": "markdown",
   "metadata": {},
   "source": [
    "# Computer Vision: Basic CNNs"
   ]
  },
  {
   "cell_type": "markdown",
   "metadata": {},
   "source": [
    "### Reza Mousavi, University of Virginia, mousavi@virginia.edu "
   ]
  },
  {
   "cell_type": "code",
   "execution_count": 1,
   "metadata": {},
   "outputs": [
    {
     "name": "stdout",
     "output_type": "stream",
     "text": [
      "Requirement already satisfied: keras in /Users/reza/opt/anaconda3/lib/python3.8/site-packages (2.4.3)\n",
      "Requirement already satisfied: h5py in /Users/reza/opt/anaconda3/lib/python3.8/site-packages (from keras) (2.10.0)\n",
      "Requirement already satisfied: numpy>=1.9.1 in /Users/reza/opt/anaconda3/lib/python3.8/site-packages (from keras) (1.19.5)\n",
      "Requirement already satisfied: pyyaml in /Users/reza/opt/anaconda3/lib/python3.8/site-packages (from keras) (5.3.1)\n",
      "Requirement already satisfied: scipy>=0.14 in /Users/reza/opt/anaconda3/lib/python3.8/site-packages (from keras) (1.5.2)\n",
      "Requirement already satisfied: six in /Users/reza/opt/anaconda3/lib/python3.8/site-packages (from h5py->keras) (1.15.0)\n",
      "\u001b[33mWARNING: Error parsing requirements for slicer: [Errno 2] No such file or directory: '/Users/reza/opt/anaconda3/lib/python3.8/site-packages/slicer-0.0.7.dist-info/METADATA'\u001b[0m\n"
     ]
    }
   ],
   "source": [
    "!pip install keras"
   ]
  },
  {
   "cell_type": "code",
   "execution_count": 1,
   "metadata": {},
   "outputs": [
    {
     "data": {
      "text/html": [
       "<style>.container { width:90% !important; }</style>"
      ],
      "text/plain": [
       "<IPython.core.display.HTML object>"
      ]
     },
     "metadata": {},
     "output_type": "display_data"
    },
    {
     "data": {
      "text/html": [
       "<style>.output_png { display: table-cell; text-align: center; vertical-align: middle; } </style>"
      ],
      "text/plain": [
       "<IPython.core.display.HTML object>"
      ]
     },
     "metadata": {},
     "output_type": "display_data"
    },
    {
     "data": {
      "text/html": [
       "<style>.MathJax {font-size: 100%;}</style>"
      ],
      "text/plain": [
       "<IPython.core.display.HTML object>"
      ]
     },
     "metadata": {},
     "output_type": "display_data"
    }
   ],
   "source": [
    "# IPython display functions\n",
    "import IPython\n",
    "from IPython.display import display, HTML, SVG, Image\n",
    "\n",
    "# General Plotting\n",
    "import matplotlib.pyplot as plt\n",
    "\n",
    "plt.style.use('seaborn-paper')\n",
    "plt.rcParams['figure.figsize'] = [10, 6] ## plot size\n",
    "plt.rcParams['axes.linewidth'] = 2.0 #set the value globally\n",
    "\n",
    "## notebook style and settings\n",
    "display(HTML(\"<style>.container { width:90% !important; }</style>\"))\n",
    "display(HTML(\"<style>.output_png { display: table-cell; text-align: center; vertical-align: middle; } </style>\"))\n",
    "display(HTML(\"<style>.MathJax {font-size: 100%;}</style>\"))\n",
    "\n",
    "# For changing background color\n",
    "def set_background(color):\n",
    "    script = ( \"var cell = this.closest('.code_cell');\" \"var editor = cell.querySelector('.input_area');\" \"editor.style.background='{}';\" \"this.parentNode.removeChild(this)\" ).format(color)\n",
    "    display(HTML('<img src onerror=\"{}\">'.format(script)))"
   ]
  },
  {
   "cell_type": "markdown",
   "metadata": {},
   "source": [
    "# Library Imports"
   ]
  },
  {
   "cell_type": "code",
   "execution_count": 2,
   "metadata": {},
   "outputs": [],
   "source": [
    "import os\n",
    "import sys\n",
    "import numpy as np\n",
    "import pandas as pd\n",
    "\n",
    "# Keras library for deep learning\n",
    "# https://keras.io/\n",
    "import keras\n",
    "from keras.datasets import mnist # MNIST Data set\n",
    "from keras.models import Sequential # Model building\n",
    "from keras.layers import * # Model layers\n",
    "\n",
    "import warnings\n",
    "warnings.simplefilter(action='ignore', category=FutureWarning)"
   ]
  },
  {
   "cell_type": "markdown",
   "metadata": {},
   "source": [
    "# 1. Data Loading"
   ]
  },
  {
   "cell_type": "markdown",
   "metadata": {},
   "source": [
    "In this notebook, we will use a well-known data set MNIST, which contains hand-written digits. Each image in the data has 784 pixels (28x28) and each value in each pixel ranges between 0-255 (single grayscale). For more information about MNIST, please visit: https://en.wikipedia.org/wiki/MNIST_database "
   ]
  },
  {
   "cell_type": "code",
   "execution_count": 4,
   "metadata": {},
   "outputs": [],
   "source": [
    "# Load data set into training and testing set\n",
    "(trainImages, trainLabels), (testImages, testLabels) = mnist.load_data()\n",
    "\n",
    "# Save copies of the data. We will use this later on when we develop our deep learning architecture\n",
    "rawTrainingImages, rawTestingImages = np.array(trainImages), np.array(testImages)\n",
    "\n",
    "rawtestLabels = testLabels"
   ]
  },
  {
   "cell_type": "markdown",
   "metadata": {},
   "source": [
    "Before moving forward, we take a look at the first image in the trainImages:"
   ]
  },
  {
   "cell_type": "code",
   "execution_count": 5,
   "metadata": {
    "collapsed": true,
    "jupyter": {
     "outputs_hidden": true
    }
   },
   "outputs": [
    {
     "data": {
      "text/plain": [
       "array([[  0,   0,   0,   0,   0,   0,   0,   0,   0,   0,   0,   0,   0,\n",
       "          0,   0,   0,   0,   0,   0,   0,   0,   0,   0,   0,   0,   0,\n",
       "          0,   0],\n",
       "       [  0,   0,   0,   0,   0,   0,   0,   0,   0,   0,   0,   0,   0,\n",
       "          0,   0,   0,   0,   0,   0,   0,   0,   0,   0,   0,   0,   0,\n",
       "          0,   0],\n",
       "       [  0,   0,   0,   0,   0,   0,   0,   0,   0,   0,   0,   0,   0,\n",
       "          0,   0,   0,   0,   0,   0,   0,   0,   0,   0,   0,   0,   0,\n",
       "          0,   0],\n",
       "       [  0,   0,   0,   0,   0,   0,   0,   0,   0,   0,   0,   0,   0,\n",
       "          0,   0,   0,   0,   0,   0,   0,   0,   0,   0,   0,   0,   0,\n",
       "          0,   0],\n",
       "       [  0,   0,   0,   0,   0,   0,   0,   0,   0,   0,   0,   0,   0,\n",
       "          0,   0,   0,   0,   0,   0,   0,   0,   0,   0,   0,   0,   0,\n",
       "          0,   0],\n",
       "       [  0,   0,   0,   0,   0,   0,   0,   0,   0,   0,   0,   0,   3,\n",
       "         18,  18,  18, 126, 136, 175,  26, 166, 255, 247, 127,   0,   0,\n",
       "          0,   0],\n",
       "       [  0,   0,   0,   0,   0,   0,   0,   0,  30,  36,  94, 154, 170,\n",
       "        253, 253, 253, 253, 253, 225, 172, 253, 242, 195,  64,   0,   0,\n",
       "          0,   0],\n",
       "       [  0,   0,   0,   0,   0,   0,   0,  49, 238, 253, 253, 253, 253,\n",
       "        253, 253, 253, 253, 251,  93,  82,  82,  56,  39,   0,   0,   0,\n",
       "          0,   0],\n",
       "       [  0,   0,   0,   0,   0,   0,   0,  18, 219, 253, 253, 253, 253,\n",
       "        253, 198, 182, 247, 241,   0,   0,   0,   0,   0,   0,   0,   0,\n",
       "          0,   0],\n",
       "       [  0,   0,   0,   0,   0,   0,   0,   0,  80, 156, 107, 253, 253,\n",
       "        205,  11,   0,  43, 154,   0,   0,   0,   0,   0,   0,   0,   0,\n",
       "          0,   0],\n",
       "       [  0,   0,   0,   0,   0,   0,   0,   0,   0,  14,   1, 154, 253,\n",
       "         90,   0,   0,   0,   0,   0,   0,   0,   0,   0,   0,   0,   0,\n",
       "          0,   0],\n",
       "       [  0,   0,   0,   0,   0,   0,   0,   0,   0,   0,   0, 139, 253,\n",
       "        190,   2,   0,   0,   0,   0,   0,   0,   0,   0,   0,   0,   0,\n",
       "          0,   0],\n",
       "       [  0,   0,   0,   0,   0,   0,   0,   0,   0,   0,   0,  11, 190,\n",
       "        253,  70,   0,   0,   0,   0,   0,   0,   0,   0,   0,   0,   0,\n",
       "          0,   0],\n",
       "       [  0,   0,   0,   0,   0,   0,   0,   0,   0,   0,   0,   0,  35,\n",
       "        241, 225, 160, 108,   1,   0,   0,   0,   0,   0,   0,   0,   0,\n",
       "          0,   0],\n",
       "       [  0,   0,   0,   0,   0,   0,   0,   0,   0,   0,   0,   0,   0,\n",
       "         81, 240, 253, 253, 119,  25,   0,   0,   0,   0,   0,   0,   0,\n",
       "          0,   0],\n",
       "       [  0,   0,   0,   0,   0,   0,   0,   0,   0,   0,   0,   0,   0,\n",
       "          0,  45, 186, 253, 253, 150,  27,   0,   0,   0,   0,   0,   0,\n",
       "          0,   0],\n",
       "       [  0,   0,   0,   0,   0,   0,   0,   0,   0,   0,   0,   0,   0,\n",
       "          0,   0,  16,  93, 252, 253, 187,   0,   0,   0,   0,   0,   0,\n",
       "          0,   0],\n",
       "       [  0,   0,   0,   0,   0,   0,   0,   0,   0,   0,   0,   0,   0,\n",
       "          0,   0,   0,   0, 249, 253, 249,  64,   0,   0,   0,   0,   0,\n",
       "          0,   0],\n",
       "       [  0,   0,   0,   0,   0,   0,   0,   0,   0,   0,   0,   0,   0,\n",
       "          0,  46, 130, 183, 253, 253, 207,   2,   0,   0,   0,   0,   0,\n",
       "          0,   0],\n",
       "       [  0,   0,   0,   0,   0,   0,   0,   0,   0,   0,   0,   0,  39,\n",
       "        148, 229, 253, 253, 253, 250, 182,   0,   0,   0,   0,   0,   0,\n",
       "          0,   0],\n",
       "       [  0,   0,   0,   0,   0,   0,   0,   0,   0,   0,  24, 114, 221,\n",
       "        253, 253, 253, 253, 201,  78,   0,   0,   0,   0,   0,   0,   0,\n",
       "          0,   0],\n",
       "       [  0,   0,   0,   0,   0,   0,   0,   0,  23,  66, 213, 253, 253,\n",
       "        253, 253, 198,  81,   2,   0,   0,   0,   0,   0,   0,   0,   0,\n",
       "          0,   0],\n",
       "       [  0,   0,   0,   0,   0,   0,  18, 171, 219, 253, 253, 253, 253,\n",
       "        195,  80,   9,   0,   0,   0,   0,   0,   0,   0,   0,   0,   0,\n",
       "          0,   0],\n",
       "       [  0,   0,   0,   0,  55, 172, 226, 253, 253, 253, 253, 244, 133,\n",
       "         11,   0,   0,   0,   0,   0,   0,   0,   0,   0,   0,   0,   0,\n",
       "          0,   0],\n",
       "       [  0,   0,   0,   0, 136, 253, 253, 253, 212, 135, 132,  16,   0,\n",
       "          0,   0,   0,   0,   0,   0,   0,   0,   0,   0,   0,   0,   0,\n",
       "          0,   0],\n",
       "       [  0,   0,   0,   0,   0,   0,   0,   0,   0,   0,   0,   0,   0,\n",
       "          0,   0,   0,   0,   0,   0,   0,   0,   0,   0,   0,   0,   0,\n",
       "          0,   0],\n",
       "       [  0,   0,   0,   0,   0,   0,   0,   0,   0,   0,   0,   0,   0,\n",
       "          0,   0,   0,   0,   0,   0,   0,   0,   0,   0,   0,   0,   0,\n",
       "          0,   0],\n",
       "       [  0,   0,   0,   0,   0,   0,   0,   0,   0,   0,   0,   0,   0,\n",
       "          0,   0,   0,   0,   0,   0,   0,   0,   0,   0,   0,   0,   0,\n",
       "          0,   0]], dtype=uint8)"
      ]
     },
     "execution_count": 5,
     "metadata": {},
     "output_type": "execute_result"
    }
   ],
   "source": [
    "trainImages[0]"
   ]
  },
  {
   "cell_type": "markdown",
   "metadata": {},
   "source": [
    "As you can see the image is a list of lists (i.e. a matrix) of numbers. We can use pyplot's imshow() to display this image:  "
   ]
  },
  {
   "cell_type": "code",
   "execution_count": 6,
   "metadata": {},
   "outputs": [
    {
     "data": {
      "text/plain": [
       "<matplotlib.image.AxesImage at 0x7fb383df9b80>"
      ]
     },
     "execution_count": 6,
     "metadata": {},
     "output_type": "execute_result"
    },
    {
     "data": {
      "image/png": "[encoded data removed]",
      "text/plain": [
       "<Figure size 720x432 with 1 Axes>"
      ]
     },
     "metadata": {
      "needs_background": "light"
     },
     "output_type": "display_data"
    }
   ],
   "source": [
    "plt.imshow(trainImages[0])"
   ]
  },
  {
   "cell_type": "markdown",
   "metadata": {},
   "source": [
    "This image in the training data should also have a label. Let's see what's the label for this image:"
   ]
  },
  {
   "cell_type": "code",
   "execution_count": 8,
   "metadata": {},
   "outputs": [
    {
     "data": {
      "text/plain": [
       "5"
      ]
     },
     "execution_count": 8,
     "metadata": {},
     "output_type": "execute_result"
    }
   ],
   "source": [
    "trainLabels[0]"
   ]
  },
  {
   "cell_type": "markdown",
   "metadata": {},
   "source": [
    "# 2. Deep Learning for Image Recognition\n",
    "## 2.1 Feed-forward Neural Networks\n",
    "Before diving into the more complex deep learning architectures, we will first try to recognize images with the most simple form of neural networks i.e feed-forward neural networks"
   ]
  },
  {
   "cell_type": "markdown",
   "metadata": {},
   "source": [
    "<img src=\"https://ml4a.github.io/images/figures/mnist_2layers.png\">\n",
    "<hr>\n",
    "<center><b>Feed-forward Neural Network for MNIST Digit Recognition</b></center>"
   ]
  },
  {
   "cell_type": "markdown",
   "metadata": {},
   "source": [
    "To be able to use the feed-forward neural network to process images as data, we need to flatten the images first. This will convert each 28x28 image into a single vector of 784 values. We use the function image.ravel() to do this. Essentially, ravel() flattens a 2 dimensional list into a single list: "
   ]
  },
  {
   "cell_type": "code",
   "execution_count": 9,
   "metadata": {},
   "outputs": [],
   "source": [
    "trainImages = np.array([image.ravel().astype('float32') for image in list(trainImages)])\n",
    "testImages = np.array([image.ravel().astype('float32') for image in list(testImages)])"
   ]
  },
  {
   "cell_type": "markdown",
   "metadata": {},
   "source": [
    "Given that the values inside pixels range between 0 and 255, we divide all of them by 255 to make them range between 0 and 1. This is called normalization. Neural Nets work better with normalized data:"
   ]
  },
  {
   "cell_type": "code",
   "execution_count": 10,
   "metadata": {},
   "outputs": [],
   "source": [
    "trainImages = trainImages / 255.0\n",
    "testImages = testImages / 255.0"
   ]
  },
  {
   "cell_type": "markdown",
   "metadata": {},
   "source": [
    "Now, we convert class labels to one-hot encoded representations:"
   ]
  },
  {
   "cell_type": "code",
   "execution_count": 11,
   "metadata": {},
   "outputs": [],
   "source": [
    "trainLabels = keras.utils.to_categorical(trainLabels, 10)\n",
    "testLabels = keras.utils.to_categorical(testLabels, 10)"
   ]
  },
  {
   "cell_type": "markdown",
   "metadata": {},
   "source": [
    "Let's take a look at the transformed label of our first image:"
   ]
  },
  {
   "cell_type": "code",
   "execution_count": 12,
   "metadata": {},
   "outputs": [
    {
     "data": {
      "text/plain": [
       "array([0., 0., 0., 0., 0., 1., 0., 0., 0., 0.], dtype=float32)"
      ]
     },
     "execution_count": 12,
     "metadata": {},
     "output_type": "execute_result"
    }
   ],
   "source": [
    "trainLabels[0]"
   ]
  },
  {
   "cell_type": "markdown",
   "metadata": {},
   "source": [
    "So far, we pre-processed our images such that they can be fed to a feed-forward neural network. Now, we use the following function to design our feed-forward neural net:"
   ]
  },
  {
   "cell_type": "code",
   "execution_count": 13,
   "metadata": {},
   "outputs": [],
   "source": [
    "def createFeedforwardNeuralNetwork(trainImages, numLayers, numUnits, dropoutValue, numClasses):\n",
    "    # Create model object\n",
    "    model = Sequential()\n",
    "    \n",
    "    # Add the first layer with dropout\n",
    "    model.add(Dense(numUnits, input_shape = trainImages.shape[1:]))\n",
    "    model.add(Dropout(dropoutValue))\n",
    "    \n",
    "    # Add more layers if numLayers > 1\n",
    "    while numLayers > 1:\n",
    "        model.add(Dense(numUnits))\n",
    "        model.add(Dropout(dropoutValue))\n",
    "        numLayers = numLayers - 1\n",
    "    \n",
    "    # Add prediction layer. Softmax activation function is used with the final prediction layer\n",
    "    model.add(Dense(numClasses, activation = 'softmax'))\n",
    "    \n",
    "    # Compile model. You can skip this line.\n",
    "    model.compile(loss=keras.losses.categorical_crossentropy,\n",
    "                  optimizer=keras.optimizers.Adam(),\n",
    "                  metrics=['accuracy'])\n",
    "    \n",
    "    # Return model\n",
    "    return model"
   ]
  },
  {
   "cell_type": "markdown",
   "metadata": {},
   "source": [
    "Before training the neural net, we need to specify the parameter values. Feel free to change them if you wish:"
   ]
  },
  {
   "cell_type": "code",
   "execution_count": 16,
   "metadata": {},
   "outputs": [],
   "source": [
    "#####################################################################################################################################################\n",
    "# Things you can change                                                                                                                             \n",
    "#####################################################################################################################################################\n",
    "numLayers = 1 # Number of layers in the neural network\n",
    "numUnits = 128 # Number of units in each layer\n",
    "dropoutValue = 0.5 # Dropout probability\n",
    "numClasses = 10 # Don't change this value for MNIST since we have 10 classes i.e we are trying to recognize a digit among 10 digits. But for any other data set, this should be changed\n",
    "epochsToTrain = 10 # Epochs for training\n",
    "batchSize = 32 # How many images should a single batch contain\n",
    "#####################################################################################################################################################"
   ]
  },
  {
   "cell_type": "markdown",
   "metadata": {},
   "source": [
    "Now, let's go ahead and take a look at the network:"
   ]
  },
  {
   "cell_type": "code",
   "execution_count": 15,
   "metadata": {},
   "outputs": [
    {
     "name": "stdout",
     "output_type": "stream",
     "text": [
      "Model: \"sequential\"\n",
      "_________________________________________________________________\n",
      "Layer (type)                 Output Shape              Param #   \n",
      "=================================================================\n",
      "dense (Dense)                (None, 128)               100480    \n",
      "_________________________________________________________________\n",
      "dropout (Dropout)            (None, 128)               0         \n",
      "_________________________________________________________________\n",
      "dense_1 (Dense)              (None, 10)                1290      \n",
      "=================================================================\n",
      "Total params: 101,770\n",
      "Trainable params: 101,770\n",
      "Non-trainable params: 0\n",
      "_________________________________________________________________\n",
      "None\n"
     ]
    }
   ],
   "source": [
    "model = createFeedforwardNeuralNetwork(trainImages, numLayers, numUnits, dropoutValue, numClasses)\n",
    "print(model.summary())"
   ]
  },
  {
   "cell_type": "markdown",
   "metadata": {},
   "source": [
    "We can now go ahead and train the model using our data:"
   ]
  },
  {
   "cell_type": "code",
   "execution_count": 73,
   "metadata": {},
   "outputs": [
    {
     "name": "stdout",
     "output_type": "stream",
     "text": [
      "1875/1875 [==============================] - 1s 642us/step - loss: 0.5853 - accuracy: 0.8214\n",
      "1875/1875 [==============================] - 1s 636us/step - loss: 0.3535 - accuracy: 0.9005\n",
      "1875/1875 [==============================] - 1s 663us/step - loss: 0.3406 - accuracy: 0.9040\n",
      "1875/1875 [==============================] - 1s 654us/step - loss: 0.3325 - accuracy: 0.9063\n",
      "1875/1875 [==============================] - 1s 637us/step - loss: 0.3257 - accuracy: 0.9092\n",
      "1875/1875 [==============================] - 1s 640us/step - loss: 0.3230 - accuracy: 0.9090\n",
      "1875/1875 [==============================] - 1s 642us/step - loss: 0.3174 - accuracy: 0.9113\n",
      "1875/1875 [==============================] - 1s 638us/step - loss: 0.3152 - accuracy: 0.9126\n",
      "1875/1875 [==============================] - 1s 643us/step - loss: 0.3153 - accuracy: 0.9112\n",
      "1875/1875 [==============================] - 1s 639us/step - loss: 0.3120 - accuracy: 0.9127\n",
      "\n",
      "Best test accuracy using feedforward neural networks is: 92.54\n"
     ]
    }
   ],
   "source": [
    "bestTestAccuracy = 0\n",
    "for epoch in range(epochsToTrain):\n",
    "    model.fit(trainImages, trainLabels, batch_size=batchSize, epochs=1, verbose=1)\n",
    "    testAccuracy = model.evaluate(testImages, testLabels, verbose=0)[1]\n",
    "    if testAccuracy > bestTestAccuracy:\n",
    "        bestTestAccuracy = testAccuracy\n",
    "print(\"\\nBest test accuracy using feedforward neural networks is: %.2f\" % (bestTestAccuracy * 100))"
   ]
  },
  {
   "cell_type": "markdown",
   "metadata": {},
   "source": [
    "## 2.2 Convolutional Neural Networks"
   ]
  },
  {
   "cell_type": "markdown",
   "metadata": {},
   "source": [
    "Now, let's try to solve the same problem using a CNN. Basically, we add convolutional and pooling layer(s) before the feed-forward layer(s):"
   ]
  },
  {
   "cell_type": "markdown",
   "metadata": {},
   "source": [
    "<img src=\"https://miro.medium.com/max/3288/1*uAeANQIOQPqWZnnuH-VEyw.jpeg\" width=\"800px\">\n",
    "<hr>\n",
    "<center><b>Convolutional Neural Networks for MNIST Digit Recognition</b></center>"
   ]
  },
  {
   "cell_type": "markdown",
   "metadata": {},
   "source": [
    "We use the following function to design our CNN:"
   ]
  },
  {
   "cell_type": "code",
   "execution_count": 17,
   "metadata": {},
   "outputs": [],
   "source": [
    "def createConvolutionalNeuralNetwork(trainImages, numLayers, numFilters, kernelSize, maxPooling, dropoutValue, numClasses):\n",
    "    # Create model object\n",
    "    model = Sequential()\n",
    "    \n",
    "    # Add the first layer with dropout\n",
    "    model.add(Conv2D(numFilters, kernel_size=(kernelSize, kernelSize),\n",
    "                     activation='relu',\n",
    "                     input_shape=trainImages.shape[1:]))\n",
    "    model.add(MaxPooling2D(pool_size=(maxPooling, maxPooling)))\n",
    "    model.add(Dropout(dropoutValue))\n",
    "    \n",
    "    while numLayers > 1:\n",
    "        model.add(Conv2D(numFilters, kernel_size=(kernelSize, kernelSize),\n",
    "                     activation='relu'))\n",
    "        model.add(MaxPooling2D(pool_size=(maxPooling, maxPooling)))\n",
    "        model.add(Dropout(dropoutValue))\n",
    "        \n",
    "        numLayers = numLayers - 1\n",
    "        \n",
    "    # Convolutional layers are done, adding the remaining stuff\n",
    "    model.add(Flatten())\n",
    "    model.add(Dense(64, activation='relu'))\n",
    "    model.add(Dropout(dropoutValue))\n",
    "    model.add(Dense(numClasses, activation='softmax'))\n",
    "\n",
    "    # Compile model. You can skip this line.\n",
    "    model.compile(loss=keras.losses.categorical_crossentropy,\n",
    "                  optimizer=keras.optimizers.Adam(),\n",
    "                  metrics=['accuracy'])\n",
    "    \n",
    "    # Return model\n",
    "    return model"
   ]
  },
  {
   "cell_type": "code",
   "execution_count": 18,
   "metadata": {},
   "outputs": [
    {
     "data": {
      "text/html": [
       "<img src onerror=\"var cell = this.closest('.code_cell');var editor = cell.querySelector('.input_area');editor.style.background='#fce53a';this.parentNode.removeChild(this)\">"
      ],
      "text/plain": [
       "<IPython.core.display.HTML object>"
      ]
     },
     "metadata": {},
     "output_type": "display_data"
    }
   ],
   "source": [
    "set_background('#fce53a')\n",
    "\n",
    "#####################################################################################################################################################\n",
    "# Things you can change                                                                                                                             \n",
    "#####################################################################################################################################################\n",
    "numLayers = 1 # Number of layers in the neural network\n",
    "numFilters = 32 # Number of units in each layer\n",
    "kernelSize = 5 # filter size of a single filter\n",
    "dropoutValue = 0.2 # Dropout probability\n",
    "maxPooling = 2 # Max pooling\n",
    "numClasses = 10 # Don't change this value for MNIST since we have 10 classes i.e we are trying to recognize a digit among 10 digits. But for any other data set, this should be changed\n",
    "epochsToTrain = 10 # Epochs for training\n",
    "batchSize = 32 # How many images should a single batch contain\n",
    "#####################################################################################################################################################"
   ]
  },
  {
   "cell_type": "markdown",
   "metadata": {},
   "source": [
    "Recall that we saved the original data in rawTrainingImages and rawTestingImages. These image data are in 28 by 28 pixels. To be able to feed these images to the CNN, we need to add the channel (color) information to the images. So, we convert each 28 by 28 matrix, to a 28 by 28 by c matrix, where c is the number of channels. Given that all these images are in grayscale channel, we only have one channel. Hence, n = 1. Therefore, we need to convert the 28 by 28 matrices to 28 by 28 by 1 matrices: "
   ]
  },
  {
   "cell_type": "code",
   "execution_count": 19,
   "metadata": {},
   "outputs": [
    {
     "data": {
      "text/plain": [
       "(28, 28)"
      ]
     },
     "execution_count": 19,
     "metadata": {},
     "output_type": "execute_result"
    }
   ],
   "source": [
    "# Before adding the channel info:\n",
    "rawTrainingImages[0].shape"
   ]
  },
  {
   "cell_type": "code",
   "execution_count": 20,
   "metadata": {},
   "outputs": [],
   "source": [
    "rawTrainingImages = rawTrainingImages.reshape(len(rawTrainingImages), 28, 28, 1)\n",
    "rawTestingImages = rawTestingImages.reshape(len(rawTestingImages), 28, 28, 1)"
   ]
  },
  {
   "cell_type": "code",
   "execution_count": 21,
   "metadata": {},
   "outputs": [
    {
     "data": {
      "text/plain": [
       "(28, 28, 1)"
      ]
     },
     "execution_count": 21,
     "metadata": {},
     "output_type": "execute_result"
    }
   ],
   "source": [
    "# After adding the channel info:\n",
    "rawTrainingImages[0].shape"
   ]
  },
  {
   "cell_type": "markdown",
   "metadata": {},
   "source": [
    "Now, we can go ahead and create the model: "
   ]
  },
  {
   "cell_type": "code",
   "execution_count": 23,
   "metadata": {},
   "outputs": [
    {
     "name": "stdout",
     "output_type": "stream",
     "text": [
      "Model: \"sequential_1\"\n",
      "_________________________________________________________________\n",
      "Layer (type)                 Output Shape              Param #   \n",
      "=================================================================\n",
      "conv2d (Conv2D)              (None, 24, 24, 32)        832       \n",
      "_________________________________________________________________\n",
      "max_pooling2d (MaxPooling2D) (None, 12, 12, 32)        0         \n",
      "_________________________________________________________________\n",
      "dropout_1 (Dropout)          (None, 12, 12, 32)        0         \n",
      "_________________________________________________________________\n",
      "flatten (Flatten)            (None, 4608)              0         \n",
      "_________________________________________________________________\n",
      "dense_2 (Dense)              (None, 64)                294976    \n",
      "_________________________________________________________________\n",
      "dropout_2 (Dropout)          (None, 64)                0         \n",
      "_________________________________________________________________\n",
      "dense_3 (Dense)              (None, 10)                650       \n",
      "=================================================================\n",
      "Total params: 296,458\n",
      "Trainable params: 296,458\n",
      "Non-trainable params: 0\n",
      "_________________________________________________________________\n",
      "None\n"
     ]
    }
   ],
   "source": [
    "model = createConvolutionalNeuralNetwork(rawTrainingImages, numLayers, numFilters, kernelSize, maxPooling, dropoutValue, numClasses)\n",
    "print(model.summary())"
   ]
  },
  {
   "cell_type": "markdown",
   "metadata": {},
   "source": [
    "And finally, we can go ahead and train it:"
   ]
  },
  {
   "cell_type": "code",
   "execution_count": 24,
   "metadata": {},
   "outputs": [
    {
     "name": "stdout",
     "output_type": "stream",
     "text": [
      "1875/1875 [==============================] - 9s 5ms/step - loss: 1.8300 - accuracy: 0.6649\n",
      "1875/1875 [==============================] - 9s 5ms/step - loss: 0.1929 - accuracy: 0.9452\n",
      "1875/1875 [==============================] - 9s 5ms/step - loss: 0.1398 - accuracy: 0.9603\n",
      "1875/1875 [==============================] - 9s 5ms/step - loss: 0.1178 - accuracy: 0.9668\n",
      "1875/1875 [==============================] - 10s 5ms/step - loss: 0.1007 - accuracy: 0.9709\n",
      "1875/1875 [==============================] - 10s 5ms/step - loss: 0.0951 - accuracy: 0.9728\n",
      "1875/1875 [==============================] - 10s 5ms/step - loss: 0.0843 - accuracy: 0.9756\n",
      "1875/1875 [==============================] - 10s 5ms/step - loss: 0.0841 - accuracy: 0.9765\n",
      "1875/1875 [==============================] - 10s 5ms/step - loss: 0.0777 - accuracy: 0.9790\n",
      "1875/1875 [==============================] - 10s 5ms/step - loss: 0.0764 - accuracy: 0.9789\n",
      "\n",
      "Best test accuracy using Convolutional Neural Network is: 98.47\n"
     ]
    }
   ],
   "source": [
    "bestTestAccuracy = 0\n",
    "for epoch in range(epochsToTrain):\n",
    "    model.fit(rawTrainingImages, trainLabels, batch_size=batchSize, epochs=1, verbose=1)\n",
    "    testAccuracy = model.evaluate(rawTestingImages, testLabels, verbose=0)[1]\n",
    "    if testAccuracy > bestTestAccuracy:\n",
    "        bestTestAccuracy = testAccuracy\n",
    "print(\"\\nBest test accuracy using Convolutional Neural Network is: %.2f\" % (bestTestAccuracy * 100))"
   ]
  },
  {
   "cell_type": "markdown",
   "metadata": {},
   "source": [
    "Now, we can use our CNN to make predictions:"
   ]
  },
  {
   "cell_type": "code",
   "execution_count": 27,
   "metadata": {},
   "outputs": [],
   "source": [
    "predicted_classes = model.predict_classes(rawTestingImages)"
   ]
  },
  {
   "cell_type": "markdown",
   "metadata": {},
   "source": [
    "Another way to obtain the predictions:"
   ]
  },
  {
   "cell_type": "code",
   "execution_count": 28,
   "metadata": {},
   "outputs": [],
   "source": [
    "predicted_classes = np.argmax(model.predict(rawTestingImages), axis=-1)"
   ]
  },
  {
   "cell_type": "markdown",
   "metadata": {},
   "source": [
    "Let's go ahead and check the prediction for the very first image in the test set:"
   ]
  },
  {
   "cell_type": "code",
   "execution_count": 29,
   "metadata": {},
   "outputs": [
    {
     "name": "stdout",
     "output_type": "stream",
     "text": [
      "The predicted number is 7, and the actual number was 7.\n"
     ]
    }
   ],
   "source": [
    "print(\"The predicted number is {}, and the actual number was {}.\".format(predicted_classes[0],rawtestLabels[0]))"
   ]
  },
  {
   "cell_type": "markdown",
   "metadata": {},
   "source": [
    "Now, let's see what the original image was:"
   ]
  },
  {
   "cell_type": "code",
   "execution_count": 31,
   "metadata": {},
   "outputs": [
    {
     "data": {
      "text/plain": [
       "<matplotlib.image.AxesImage at 0x7fb3840ad4c0>"
      ]
     },
     "execution_count": 31,
     "metadata": {},
     "output_type": "execute_result"
    },
    {
     "data": {
      "image/png": "[encoded data removed]",
      "text/plain": [
       "<Figure size 720x432 with 1 Axes>"
      ]
     },
     "metadata": {
      "needs_background": "light"
     },
     "output_type": "display_data"
    }
   ],
   "source": [
    "plt.imshow(rawTestingImages[0])"
   ]
  },
  {
   "cell_type": "code",
   "execution_count": null,
   "metadata": {},
   "outputs": [],
   "source": []
  }
 ],
 "metadata": {
  "kernelspec": {
   "display_name": "Python 3",
   "language": "python",
   "name": "python3"
  },
  "language_info": {
   "codemirror_mode": {
    "name": "ipython",
    "version": 3
   },
   "file_extension": ".py",
   "mimetype": "text/x-python",
   "name": "python",
   "nbconvert_exporter": "python",
   "pygments_lexer": "ipython3",
   "version": "3.8.5"
  }
 },
 "nbformat": 4,
 "nbformat_minor": 4
}
